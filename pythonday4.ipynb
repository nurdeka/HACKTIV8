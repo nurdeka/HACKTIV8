{
 "cells": [
  {
   "cell_type": "code",
   "execution_count": 4,
   "metadata": {},
   "outputs": [
    {
     "name": "stdout",
     "output_type": "stream",
     "text": [
      "[[ 1  2  3  4]\n",
      " [ 5  6  7  8]\n",
      " [ 9 10 11 12]]\n"
     ]
    }
   ],
   "source": [
    "import numpy as np\n",
    "\n",
    "#Membuat Matriks 3x4\n",
    "a=np.array([[1,2,3,4],[5,6,7,8],[9,10,11,12]])\n",
    "#Menampilkan Matriks 3x4\n",
    "print(a)"
   ]
  },
  {
   "cell_type": "code",
   "execution_count": 14,
   "metadata": {},
   "outputs": [
    {
     "name": "stdout",
     "output_type": "stream",
     "text": [
      "[0. 0. 0. 0. 0.] [1. 1.]\n"
     ]
    }
   ],
   "source": [
    "#Membuat Matriks Baru\n",
    "#np.array()\n",
    "#np.zeros()\n",
    "#np.ones()\n",
    "#np.empty()\n",
    "#np.arange()\n",
    "\n",
    "b=np.zeros(5)\n",
    "c=np.ones(2)\n",
    "print(b,c)"
   ]
  },
  {
   "cell_type": "code",
   "execution_count": 15,
   "metadata": {},
   "outputs": [
    {
     "name": "stdout",
     "output_type": "stream",
     "text": [
      "[[1. 0. 0.]\n",
      " [0. 1. 0.]\n",
      " [0. 0. 1.]]\n"
     ]
    }
   ],
   "source": [
    "#Membuat Matriks Identitas\n",
    "d=np.identity(3)\n",
    "print(d)"
   ]
  },
  {
   "cell_type": "code",
   "execution_count": 27,
   "metadata": {},
   "outputs": [
    {
     "name": "stdout",
     "output_type": "stream",
     "text": [
      "[[[0 1 2 3]\n",
      "  [4 5 6 7]]\n",
      "\n",
      " [[0 1 2 3]\n",
      "  [4 5 6 7]]\n",
      "\n",
      " [[0 1 2 3]\n",
      "  [4 5 6 7]]]\n"
     ]
    }
   ],
   "source": [
    "#Membuat 3-Matriks 2x4\n",
    "#Multidimensional Matrix\n",
    "e=np.array([[[0,1,2,3],\n",
    "             [4,5,6,7]],\n",
    "            [[0,1,2,3],\n",
    "             [4,5,6,7]],\n",
    "            [[0,1,2,3],\n",
    "             [4,5,6,7]]])\n",
    "print(e)"
   ]
  },
  {
   "cell_type": "code",
   "execution_count": 28,
   "metadata": {},
   "outputs": [
    {
     "data": {
      "text/plain": [
       "3"
      ]
     },
     "execution_count": 28,
     "metadata": {},
     "output_type": "execute_result"
    }
   ],
   "source": [
    "#Banyaknya Matriks yang ada di dalam List (a)\n",
    "e.ndim"
   ]
  },
  {
   "cell_type": "code",
   "execution_count": 29,
   "metadata": {},
   "outputs": [
    {
     "data": {
      "text/plain": [
       "24"
      ]
     },
     "execution_count": 29,
     "metadata": {},
     "output_type": "execute_result"
    }
   ],
   "source": [
    "#Banyaknya Titik yang ada didalam matriks (n=a*b*c)\n",
    "e.size"
   ]
  },
  {
   "cell_type": "code",
   "execution_count": 30,
   "metadata": {},
   "outputs": [
    {
     "data": {
      "text/plain": [
       "(3, 2, 4)"
      ]
     },
     "execution_count": 30,
     "metadata": {},
     "output_type": "execute_result"
    }
   ],
   "source": [
    "#Bentuk matriks yang ada (a x b x c)\n",
    "e.shape"
   ]
  },
  {
   "cell_type": "code",
   "execution_count": 43,
   "metadata": {},
   "outputs": [
    {
     "name": "stdout",
     "output_type": "stream",
     "text": [
      "Matriks Linear 1x10 :\n",
      "\n",
      "[0 1 2 3 4 5 6 7 8 9]\n",
      "Matriks 2D 5x2 :\n",
      "\n",
      "[[0 1]\n",
      " [2 3]\n",
      " [4 5]\n",
      " [6 7]\n",
      " [8 9]]\n",
      "Matriks Linear 1x60 :\n",
      "\n",
      "[ 0  1  2  3  4  5  6  7  8  9 10 11 12 13 14 15 16 17 18 19 20 21 22 23\n",
      " 24 25 26 27 28 29 30 31 32 33 34 35 36 37 38 39 40 41 42 43 44 45 46 47\n",
      " 48 49 50 51 52 53 54 55 56 57 58 59]\n",
      "Matriks 2D 5x12 :\n",
      "\n",
      "[[ 0  1  2  3  4  5  6  7  8  9 10 11]\n",
      " [12 13 14 15 16 17 18 19 20 21 22 23]\n",
      " [24 25 26 27 28 29 30 31 32 33 34 35]\n",
      " [36 37 38 39 40 41 42 43 44 45 46 47]\n",
      " [48 49 50 51 52 53 54 55 56 57 58 59]]\n",
      "Matriks 3D 5x2x6 :\n",
      "\n",
      "[[[ 0  1  2  3  4  5]\n",
      "  [ 6  7  8  9 10 11]]\n",
      "\n",
      " [[12 13 14 15 16 17]\n",
      "  [18 19 20 21 22 23]]\n",
      "\n",
      " [[24 25 26 27 28 29]\n",
      "  [30 31 32 33 34 35]]\n",
      "\n",
      " [[36 37 38 39 40 41]\n",
      "  [42 43 44 45 46 47]]\n",
      "\n",
      " [[48 49 50 51 52 53]\n",
      "  [54 55 56 57 58 59]]]\n",
      "Matriks 4D 5x2x2x3 :\n",
      "\n",
      "[[[[ 0  1  2]\n",
      "   [ 3  4  5]]\n",
      "\n",
      "  [[ 6  7  8]\n",
      "   [ 9 10 11]]]\n",
      "\n",
      "\n",
      " [[[12 13 14]\n",
      "   [15 16 17]]\n",
      "\n",
      "  [[18 19 20]\n",
      "   [21 22 23]]]\n",
      "\n",
      "\n",
      " [[[24 25 26]\n",
      "   [27 28 29]]\n",
      "\n",
      "  [[30 31 32]\n",
      "   [33 34 35]]]\n",
      "\n",
      "\n",
      " [[[36 37 38]\n",
      "   [39 40 41]]\n",
      "\n",
      "  [[42 43 44]\n",
      "   [45 46 47]]]\n",
      "\n",
      "\n",
      " [[[48 49 50]\n",
      "   [51 52 53]]\n",
      "\n",
      "  [[54 55 56]\n",
      "   [57 58 59]]]]\n"
     ]
    }
   ],
   "source": [
    "#Reshape Matriks \n",
    "a=np.arange(10)\n",
    "#Matriks Linear 1x10\n",
    "print('Matriks Linear 1x10 :\\n')\n",
    "print(a)\n",
    "\n",
    "#Merubah Matriks a menjadi 5x2\n",
    "b=a.reshape(5,2)\n",
    "print('Matriks 2D 5x2 :\\n')\n",
    "print(b)\n",
    "\n",
    "c=np.arange(60)\n",
    "print('Matriks Linear 1x60 :\\n')\n",
    "print(c)\n",
    "\n",
    "d=c.reshape(5,12)\n",
    "print('Matriks 2D 5x12 :\\n')\n",
    "print(d)\n",
    "\n",
    "e=c.reshape(5,2,6)\n",
    "print('Matriks 3D 5x2x6 :\\n')\n",
    "print(e)\n",
    "\n",
    "f=c.reshape(5,2,2,3)\n",
    "print('Matriks 4D 5x2x2x3 :\\n')\n",
    "print(f)"
   ]
  },
  {
   "cell_type": "code",
   "execution_count": 65,
   "metadata": {},
   "outputs": [
    {
     "ename": "AttributeError",
     "evalue": "'numpy.ndarray' object has no attribute 'vstack'",
     "output_type": "error",
     "traceback": [
      "\u001b[1;31m---------------------------------------------------------------------------\u001b[0m",
      "\u001b[1;31mAttributeError\u001b[0m                            Traceback (most recent call last)",
      "\u001b[1;32m<ipython-input-65-a270da8b4cc6>\u001b[0m in \u001b[0;36m<module>\u001b[1;34m\u001b[0m\n\u001b[0;32m      4\u001b[0m \u001b[0mpeta\u001b[0m\u001b[1;33m=\u001b[0m\u001b[0mnp\u001b[0m\u001b[1;33m.\u001b[0m\u001b[0marange\u001b[0m\u001b[1;33m(\u001b[0m\u001b[0ma\u001b[0m\u001b[1;33m,\u001b[0m\u001b[0mb\u001b[0m\u001b[1;33m)\u001b[0m\u001b[1;33m\u001b[0m\u001b[1;33m\u001b[0m\u001b[0m\n\u001b[0;32m      5\u001b[0m \u001b[1;32mfor\u001b[0m \u001b[0mi\u001b[0m \u001b[1;32min\u001b[0m \u001b[0mrange\u001b[0m \u001b[1;33m(\u001b[0m\u001b[0ma\u001b[0m\u001b[1;33m)\u001b[0m\u001b[1;33m:\u001b[0m\u001b[1;33m\u001b[0m\u001b[1;33m\u001b[0m\u001b[0m\n\u001b[1;32m----> 6\u001b[1;33m     \u001b[0mpeta\u001b[0m\u001b[1;33m.\u001b[0m\u001b[0mvstack\u001b[0m\u001b[1;33m(\u001b[0m\u001b[0mnp\u001b[0m\u001b[1;33m.\u001b[0m\u001b[0mzeros\u001b[0m\u001b[1;33m(\u001b[0m\u001b[0ma\u001b[0m\u001b[1;33m)\u001b[0m\u001b[1;33m)\u001b[0m\u001b[1;33m\u001b[0m\u001b[1;33m\u001b[0m\u001b[0m\n\u001b[0m\u001b[0;32m      7\u001b[0m \u001b[1;33m\u001b[0m\u001b[0m\n\u001b[0;32m      8\u001b[0m \u001b[0mprint\u001b[0m\u001b[1;33m(\u001b[0m\u001b[0mpeta\u001b[0m\u001b[1;33m)\u001b[0m\u001b[1;33m\u001b[0m\u001b[1;33m\u001b[0m\u001b[0m\n",
      "\u001b[1;31mAttributeError\u001b[0m: 'numpy.ndarray' object has no attribute 'vstack'"
     ]
    }
   ],
   "source": [
    "#PR\n",
    "a=6\n",
    "b=6\n",
    "peta=np.arange(a,b)\n",
    "for i in range (a):\n",
    "    peta.vstack(np.zeros(a))\n",
    "    \n",
    "print(peta)\n",
    "    "
   ]
  },
  {
   "cell_type": "code",
   "execution_count": 56,
   "metadata": {},
   "outputs": [
    {
     "name": "stdout",
     "output_type": "stream",
     "text": [
      "[1 2 3 4 5 6]\n",
      "1\n",
      "2\n",
      "[1 2 3 4]\n",
      "[2 3 4 5 6]\n",
      "[2 3 4 5 6]\n"
     ]
    }
   ],
   "source": [
    "#Indexing dan Slicing \n",
    "data=np.array([1,2,3,4,5,6])\n",
    "\n",
    "#Mengambil Semua Data\n",
    "print(data)\n",
    "#Mngambil Data Index 0/Pertama\n",
    "print(data[0])\n",
    "#Mengambil Data Index 1\n",
    "print(data[1])\n",
    "#Mengambil Data dari Index 0/Pertama Sebanyak 4\n",
    "print(data[0:4])\n",
    "#Mengambil Data dari Index 1 sampai terakhir\n",
    "print(data[1:])\n",
    "#Mengambil Data dari akhir sebanyak 5\n",
    "print(data[-5:])"
   ]
  },
  {
   "cell_type": "code",
   "execution_count": 70,
   "metadata": {},
   "outputs": [
    {
     "name": "stdout",
     "output_type": "stream",
     "text": [
      "[2 3 4 5 6]\n",
      "[4 5 6]\n",
      "[2 4 6]\n"
     ]
    }
   ],
   "source": [
    "#Memfilter Array\n",
    "#Quality Control (misalkan)\n",
    "data=np.array([1,2,3,4,5,6])\n",
    "two_up=(data >= 2)\n",
    "print(data[two_up])\n",
    "print(data[data>=4])\n",
    "\n",
    "divisible_by_2=data[data%2==0]\n",
    "print(divisible_by_2)"
   ]
  },
  {
   "cell_type": "code",
   "execution_count": 71,
   "metadata": {},
   "outputs": [
    {
     "name": "stdout",
     "output_type": "stream",
     "text": [
      "[ 5 10 15 20 25 30]\n",
      "[ 5 10 15 20 25 30]\n",
      "[10 20 30]\n"
     ]
    }
   ],
   "source": [
    "#Memfilter Array\n",
    "#Quality Control (misalkan)\n",
    "data=np.array([1,2,3,4,5,6])\n",
    "data=data*5\n",
    "two_up=(data >= 2)\n",
    "print(data[two_up])\n",
    "print(data[data>=4])\n",
    "\n",
    "divisible_by_2=data[data%2==0]\n",
    "print(divisible_by_2)"
   ]
  },
  {
   "cell_type": "code",
   "execution_count": 75,
   "metadata": {},
   "outputs": [
    {
     "name": "stdout",
     "output_type": "stream",
     "text": [
      "[ 5 10 15 20 25 30]\n",
      "105\n",
      "30\n"
     ]
    }
   ],
   "source": [
    "#Fungsi Agregasi (seperti fungsi excel)\n",
    "data=np.array([1,2,3,4,5,6])\n",
    "data=data*5\n",
    "print(data)\n",
    "print(data.sum())\n",
    "print(data.max())"
   ]
  },
  {
   "cell_type": "code",
   "execution_count": 79,
   "metadata": {},
   "outputs": [
    {
     "name": "stdout",
     "output_type": "stream",
     "text": [
      "[ 5 10 15 20 25 30]\n",
      "105\n",
      "30\n",
      "[[0.82894191 0.91443619]\n",
      " [0.76208152 0.8807054 ]\n",
      " [0.97876514 0.85489343]]\n",
      "[ 5 10 15 20 25 30]\n"
     ]
    }
   ],
   "source": [
    "#Fungsi Agregasi (seperti fungsi excel)\n",
    "data=np.array([1,2,3,4,5,6])\n",
    "data=data*5\n",
    "print(data)\n",
    "print(data.sum())\n",
    "print(data.max())\n",
    "print(np.random.random((3,2)))"
   ]
  },
  {
   "cell_type": "code",
   "execution_count": 85,
   "metadata": {},
   "outputs": [
    {
     "name": "stdout",
     "output_type": "stream",
     "text": [
      "Matriks Linear 1x10 :\n",
      "\n",
      "[0 1 2 3 4 5 6 7 8 9]\n",
      "Matriks 2D 5x2 :\n",
      "\n",
      "[[0 1]\n",
      " [2 3]\n",
      " [4 5]\n",
      " [6 7]\n",
      " [8 9]]\n",
      "Transpose Matriks 2x5 :\n",
      "\n",
      "[[0 2 4 6 8]\n",
      " [1 3 5 7 9]]\n",
      "Flatten Matriks :\n",
      "\n",
      "[0 1 2 3 4 5 6 7 8 9]\n",
      "[0 1 2 3 4 5 6 7 8 9]\n"
     ]
    }
   ],
   "source": [
    "#Transposing da\n",
    "#Reshape Matriks \n",
    "a=np.arange(10)\n",
    "#Matriks Linear 1x10\n",
    "print('Matriks Linear 1x10 :\\n')\n",
    "print(a)\n",
    "\n",
    "#Merubah Matriks a menjadi 5x2\n",
    "b=a.reshape(5,2)\n",
    "print('Matriks 2D 5x2 :\\n')\n",
    "print(b)\n",
    "\n",
    "print('Transpose Matriks 2x5 :\\n')\n",
    "print(b.T)\n",
    "print('Flatten Matriks :\\n')\n",
    "print(b.flatten())\n",
    "print('Ravel Matriks (Hemat Memory Komputer) :\\n')\n",
    "print(b.ravel())"
   ]
  },
  {
   "cell_type": "code",
   "execution_count": 90,
   "metadata": {},
   "outputs": [
    {
     "name": "stdout",
     "output_type": "stream",
     "text": [
      "[-2 -3 -5 -5 -6 -6]\n",
      "[ 4  9 25 25 36 36]\n",
      "135\n",
      "22.5\n"
     ]
    }
   ],
   "source": [
    "#Working with Math Formulas\n",
    "#((1/n)(sigma(Y1-Y2)^2)\n",
    "observed=np.array([1,2,3,4,5,6])\n",
    "prediction=np.array([3,5,8,9,11,12])\n",
    "n=6\n",
    "\n",
    "error=(1/n) * np.sum(np.square(observed-prediction))\n",
    "print(observed-prediction)\n",
    "print(np.square(observed-prediction))\n",
    "print(np.sum(np.square(observed-prediction)))\n",
    "print(error)"
   ]
  },
  {
   "cell_type": "code",
   "execution_count": null,
   "metadata": {},
   "outputs": [],
   "source": []
  }
 ],
 "metadata": {
  "kernelspec": {
   "display_name": "Python 3",
   "language": "python",
   "name": "python3"
  },
  "language_info": {
   "codemirror_mode": {
    "name": "ipython",
    "version": 3
   },
   "file_extension": ".py",
   "mimetype": "text/x-python",
   "name": "python",
   "nbconvert_exporter": "python",
   "pygments_lexer": "ipython3",
   "version": "3.8.3"
  }
 },
 "nbformat": 4,
 "nbformat_minor": 4
}
