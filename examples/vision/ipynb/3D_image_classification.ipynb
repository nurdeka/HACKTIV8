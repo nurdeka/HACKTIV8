{
  "cells": [
    {
      "cell_type": "markdown",
      "metadata": {
        "id": "view-in-github",
        "colab_type": "text"
      },
      "source": [
        "<a href=\"https://colab.research.google.com/github/nurdeka/HACKTIV8/blob/main/examples/vision/ipynb/3D_image_classification.ipynb\" target=\"_parent\"><img src=\"https://colab.research.google.com/assets/colab-badge.svg\" alt=\"Open In Colab\"/></a>"
      ]
    },
    {
      "cell_type": "markdown",
      "metadata": {
        "id": "SVdmNc4rQyi4"
      },
      "source": [
        "# 3D image classification from CT scans\n",
        "\n",
        "**Author:** [Hasib Zunair](https://twitter.com/hasibzunair)<br>\n",
        "**Date created:** 2020/09/23<br>\n",
        "**Last modified:** 2020/09/23<br>\n",
        "**Description:** Train a 3D convolutional neural network to predict presence of pneumonia."
      ]
    },
    {
      "cell_type": "markdown",
      "metadata": {
        "id": "RYoJbx4MQyi9"
      },
      "source": [
        "## Introduction\n",
        "\n",
        "This example will show the steps needed to build a 3D convolutional neural network (CNN)\n",
        "to predict the presence of viral pneumonia in computer tomography (CT) scans. 2D CNNs are\n",
        "commonly used to process RGB images (3 channels). A 3D CNN is simply the 3D\n",
        "equivalent: it takes as input a 3D volume or a sequence of 2D frames (e.g. slices in a CT scan),\n",
        "3D CNNs are a powerful model for learning representations for volumetric data.\n",
        "\n",
        "## References\n",
        "\n",
        "- [A survey on Deep Learning Advances on Different 3D DataRepresentations](https://arxiv.org/pdf/1808.01462.pdf)\n",
        "- [VoxNet: A 3D Convolutional Neural Network for Real-Time Object Recognition](https://www.ri.cmu.edu/pub_files/2015/9/voxnet_maturana_scherer_iros15.pdf)\n",
        "- [FusionNet: 3D Object Classification Using MultipleData Representations](http://3ddl.cs.princeton.edu/2016/papers/Hegde_Zadeh.pdf)\n",
        "- [Uniformizing Techniques to Process CT scans with 3D CNNs for Tuberculosis Prediction](https://arxiv.org/abs/2007.13224)"
      ]
    },
    {
      "cell_type": "markdown",
      "metadata": {
        "id": "5pB_kpxOQyi-"
      },
      "source": [
        "## Setup"
      ]
    },
    {
      "cell_type": "code",
      "execution_count": 1,
      "metadata": {
        "id": "hZWgs_SaQyi_"
      },
      "outputs": [],
      "source": [
        "import os\n",
        "import zipfile\n",
        "import numpy as np\n",
        "import tensorflow as tf\n",
        "\n",
        "from tensorflow import keras\n",
        "from tensorflow.keras import layers"
      ]
    },
    {
      "cell_type": "code",
      "source": [
        "#Start by connecting gdrive into the google colab\n",
        "\n",
        "from google.colab import drive\n",
        "\n",
        "drive.mount('/content/gdrive')"
      ],
      "metadata": {
        "colab": {
          "base_uri": "https://localhost:8080/"
        },
        "id": "knpH8Q705KpX",
        "outputId": "324c461c-a64e-4187-c157-12c2ccaa0f8c"
      },
      "execution_count": 2,
      "outputs": [
        {
          "output_type": "stream",
          "name": "stdout",
          "text": [
            "Mounted at /content/gdrive\n"
          ]
        }
      ]
    },
    {
      "cell_type": "code",
      "source": [
        "import tensorflow as tf\n",
        "print(\"Num GPUs Available: \", len(tf.config.experimental.list_physical_devices('GPU')))"
      ],
      "metadata": {
        "colab": {
          "base_uri": "https://localhost:8080/"
        },
        "id": "H_JrhxVO9bKJ",
        "outputId": "8b946836-a9a1-4dba-b2b2-3d9c32c8abc5"
      },
      "execution_count": 3,
      "outputs": [
        {
          "output_type": "stream",
          "name": "stdout",
          "text": [
            "Num GPUs Available:  1\n"
          ]
        }
      ]
    },
    {
      "cell_type": "code",
      "execution_count": 4,
      "metadata": {
        "colab": {
          "base_uri": "https://localhost:8080/"
        },
        "id": "Y04m-jvKRDsJ",
        "outputId": "c3245731-05ae-44f6-9ca3-e447f239ba61"
      },
      "outputs": [
        {
          "output_type": "stream",
          "name": "stdout",
          "text": [
            "Time (s) to convolve 32x7x7x3 filter over random 100x100x100x3 images (batch x height x width x channel). Sum of ten runs.\n",
            "CPU (s):\n",
            "2.9160545809999974\n",
            "GPU (s):\n",
            "0.04117989900001362\n",
            "GPU speedup over CPU: 70x\n"
          ]
        }
      ],
      "source": [
        "%tensorflow_version 2.x\n",
        "import tensorflow as tf\n",
        "import timeit\n",
        "\n",
        "device_name = tf.test.gpu_device_name()\n",
        "if device_name != '/device:GPU:0':\n",
        "  print(\n",
        "      '\\n\\nThis error most likely means that this notebook is not '\n",
        "      'configured to use a GPU.  Change this in Notebook Settings via the '\n",
        "      'command palette (cmd/ctrl-shift-P) or the Edit menu.\\n\\n')\n",
        "  raise SystemError('GPU device not found')\n",
        "\n",
        "def cpu():\n",
        "  with tf.device('/cpu:0'):\n",
        "    random_image_cpu = tf.random.normal((100, 100, 100, 3))\n",
        "    net_cpu = tf.keras.layers.Conv2D(32, 7)(random_image_cpu)\n",
        "    return tf.math.reduce_sum(net_cpu)\n",
        "\n",
        "def gpu():\n",
        "  with tf.device('/device:GPU:0'):\n",
        "    random_image_gpu = tf.random.normal((100, 100, 100, 3))\n",
        "    net_gpu = tf.keras.layers.Conv2D(32, 7)(random_image_gpu)\n",
        "    return tf.math.reduce_sum(net_gpu)\n",
        "  \n",
        "# We run each op once to warm up; see: https://stackoverflow.com/a/45067900\n",
        "cpu()\n",
        "gpu()\n",
        "\n",
        "# Run the op several times.\n",
        "print('Time (s) to convolve 32x7x7x3 filter over random 100x100x100x3 images '\n",
        "      '(batch x height x width x channel). Sum of ten runs.')\n",
        "print('CPU (s):')\n",
        "cpu_time = timeit.timeit('cpu()', number=10, setup=\"from __main__ import cpu\")\n",
        "print(cpu_time)\n",
        "print('GPU (s):')\n",
        "gpu_time = timeit.timeit('gpu()', number=10, setup=\"from __main__ import gpu\")\n",
        "print(gpu_time)\n",
        "print('GPU speedup over CPU: {}x'.format(int(cpu_time/gpu_time)))"
      ]
    },
    {
      "cell_type": "markdown",
      "metadata": {
        "id": "ySbnkUjjQyjA"
      },
      "source": [
        "## Downloading the MosMedData: Chest CT Scans with COVID-19 Related Findings\n",
        "\n",
        "In this example, we use a subset of the\n",
        "[MosMedData: Chest CT Scans with COVID-19 Related Findings](https://www.medrxiv.org/content/10.1101/2020.05.20.20100362v1).\n",
        "This dataset consists of lung CT scans with COVID-19 related findings, as well as without such findings.\n",
        "\n",
        "We will be using the associated radiological findings of the CT scans as labels to build\n",
        "a classifier to predict presence of viral pneumonia.\n",
        "Hence, the task is a binary classification problem."
      ]
    },
    {
      "cell_type": "code",
      "execution_count": null,
      "metadata": {
        "id": "zbU3dgR6QyjB",
        "outputId": "588d039c-85d1-4b90-825a-01730c9d3fd9",
        "colab": {
          "base_uri": "https://localhost:8080/"
        }
      },
      "outputs": [
        {
          "output_type": "stream",
          "name": "stdout",
          "text": [
            "Downloading data from https://github.com/hasibzunair/3D-image-classification-tutorial/releases/download/v0.2/CT-0.zip\n",
            "1065476096/1065471431 [==============================] - 130s 0us/step\n",
            "1065484288/1065471431 [==============================] - 130s 0us/step\n",
            "Downloading data from https://github.com/hasibzunair/3D-image-classification-tutorial/releases/download/v0.2/CT-23.zip\n",
            "1045168128/1045162547 [==============================] - 88s 0us/step\n",
            "1045176320/1045162547 [==============================] - 88s 0us/step\n"
          ]
        }
      ],
      "source": [
        "# Download url of normal CT scans.\n",
        "url = \"https://github.com/hasibzunair/3D-image-classification-tutorial/releases/download/v0.2/CT-0.zip\"\n",
        "filename = os.path.join(os.getcwd(), \"CT-0.zip\")\n",
        "keras.utils.get_file(filename, url)\n",
        "\n",
        "# Download url of abnormal CT scans.\n",
        "url = \"https://github.com/hasibzunair/3D-image-classification-tutorial/releases/download/v0.2/CT-23.zip\"\n",
        "filename = os.path.join(os.getcwd(), \"CT-23.zip\")\n",
        "keras.utils.get_file(filename, url)\n",
        "\n",
        "# Make a directory to store the data.\n",
        "os.makedirs(\"MosMedData\")\n",
        "\n",
        "# Unzip data in the newly created directory.\n",
        "with zipfile.ZipFile(\"CT-0.zip\", \"r\") as z_fp:\n",
        "    z_fp.extractall(\"./MosMedData/\")\n",
        "\n",
        "with zipfile.ZipFile(\"CT-23.zip\", \"r\") as z_fp:\n",
        "    z_fp.extractall(\"./MosMedData/\")"
      ]
    },
    {
      "cell_type": "markdown",
      "metadata": {
        "id": "pfywv9ySQyjC"
      },
      "source": [
        "## Loading data and preprocessing\n",
        "\n",
        "The files are provided in Nifti format with the extension .nii. To read the\n",
        "scans, we use the `nibabel` package.\n",
        "You can install the package via `pip install nibabel`. CT scans store raw voxel\n",
        "intensity in Hounsfield units (HU). They range from -1024 to above 2000 in this dataset.\n",
        "Above 400 are bones with different radiointensity, so this is used as a higher bound. A threshold\n",
        "between -1000 and 400 is commonly used to normalize CT scans.\n",
        "\n",
        "To process the data, we do the following:\n",
        "\n",
        "* We first rotate the volumes by 90 degrees, so the orientation is fixed\n",
        "* We scale the HU values to be between 0 and 1.\n",
        "* We resize width, height and depth.\n",
        "\n",
        "Here we define several helper functions to process the data. These functions\n",
        "will be used when building training and validation datasets."
      ]
    },
    {
      "cell_type": "code",
      "execution_count": null,
      "metadata": {
        "id": "f8wvHTi5QyjD"
      },
      "outputs": [],
      "source": [
        "\n",
        "import nibabel as nib\n",
        "\n",
        "from scipy import ndimage\n",
        "\n",
        "\n",
        "def read_nifti_file(filepath):\n",
        "    \"\"\"Read and load volume\"\"\"\n",
        "    # Read file\n",
        "    scan = nib.load(filepath)\n",
        "    # Get raw data\n",
        "    scan = scan.get_fdata()\n",
        "    return scan\n",
        "\n",
        "\n",
        "def normalize(volume):\n",
        "    \"\"\"Normalize the volume\"\"\"\n",
        "    min = -1000\n",
        "    max = 400\n",
        "    volume[volume < min] = min\n",
        "    volume[volume > max] = max\n",
        "    volume = (volume - min) / (max - min)\n",
        "    volume = volume.astype(\"float32\")\n",
        "    return volume\n",
        "\n",
        "\n",
        "def resize_volume(img):\n",
        "    \"\"\"Resize across z-axis\"\"\"\n",
        "    # Set the desired depth\n",
        "    desired_depth = 64\n",
        "    desired_width = 128\n",
        "    desired_height = 128\n",
        "    # Get current depth\n",
        "    current_depth = img.shape[-1]\n",
        "    current_width = img.shape[0]\n",
        "    current_height = img.shape[1]\n",
        "    # Compute depth factor\n",
        "    depth = current_depth / desired_depth\n",
        "    width = current_width / desired_width\n",
        "    height = current_height / desired_height\n",
        "    depth_factor = 1 / depth\n",
        "    width_factor = 1 / width\n",
        "    height_factor = 1 / height\n",
        "    # Rotate\n",
        "    img = ndimage.rotate(img, 90, reshape=False)\n",
        "    # Resize across z-axis\n",
        "    img = ndimage.zoom(img, (width_factor, height_factor, depth_factor), order=1)\n",
        "    return img\n",
        "\n",
        "\n",
        "def process_scan(path):\n",
        "    \"\"\"Read and resize volume\"\"\"\n",
        "    # Read scan\n",
        "    volume = read_nifti_file(path)\n",
        "    # Normalize\n",
        "    volume = normalize(volume)\n",
        "    # Resize width, height and depth\n",
        "    volume = resize_volume(volume)\n",
        "    return volume\n"
      ]
    },
    {
      "cell_type": "code",
      "source": [
        "from numpy import load\n",
        "def read_file(filepath):\n",
        "    \"\"\"Read and load volume\"\"\"\n",
        "    # Read file\n",
        "    dict_scan = load(filepath)\n",
        "    # Get raw data\n",
        "    scan = dict_scan['arr_0']\n",
        "    return scan\n",
        "\n",
        "def process_scan(path):\n",
        "    \"\"\"Read and resize volume\"\"\"\n",
        "    # Read scan\n",
        "    volume = read_file(path)\n",
        "    # Normalize\n",
        "    #volume = normalize(volume)\n",
        "    # Resize width, height and depth\n",
        "    #volume = resize_volume(volume)\n",
        "    return volume"
      ],
      "metadata": {
        "id": "72qS9o6Hv9OM"
      },
      "execution_count": 15,
      "outputs": []
    },
    {
      "cell_type": "code",
      "source": [
        "os.chdir(\"/content/gdrive/MyDrive/THESIS_UI/CNN/\" )"
      ],
      "metadata": {
        "id": "iORsmU4R7ZIj"
      },
      "execution_count": 5,
      "outputs": []
    },
    {
      "cell_type": "code",
      "source": [
        "os.getcwd()"
      ],
      "metadata": {
        "colab": {
          "base_uri": "https://localhost:8080/",
          "height": 36
        },
        "id": "Ewgn21H27tXd",
        "outputId": "fcb099e7-f7a7-4462-836e-32b26dab26df"
      },
      "execution_count": 7,
      "outputs": [
        {
          "output_type": "execute_result",
          "data": {
            "application/vnd.google.colaboratory.intrinsic+json": {
              "type": "string"
            },
            "text/plain": [
              "'/content/gdrive/MyDrive/THESIS_UI/CNN'"
            ]
          },
          "metadata": {},
          "execution_count": 7
        }
      ]
    },
    {
      "cell_type": "markdown",
      "metadata": {
        "id": "VnahVj6vQyjE"
      },
      "source": [
        "Let's read the paths of the CT scans from the class directories."
      ]
    },
    {
      "cell_type": "code",
      "execution_count": 13,
      "metadata": {
        "id": "8ge-nVlBQyjF",
        "outputId": "4c0cf676-687b-4a01-8c30-da6529839d64",
        "colab": {
          "base_uri": "https://localhost:8080/"
        }
      },
      "outputs": [
        {
          "output_type": "stream",
          "name": "stdout",
          "text": [
            "HS scans with normal lung tissue: 100\n",
            "HS scans with abnormal lung tissue: 100\n"
          ]
        }
      ],
      "source": [
        "# Folder \"CT-0\" consist of CT scans having normal lung tissue,\n",
        "# no CT-signs of viral pneumonia.\n",
        "normal_scan_paths = [\n",
        "    os.path.join(os.getcwd(), \"hotspot/TES_0\", x)\n",
        "    for x in os.listdir(\"hotspot/TES_0\")\n",
        "]\n",
        "# Folder \"CT-23\" consist of CT scans having several ground-glass opacifications,\n",
        "# involvement of lung parenchyma.\n",
        "abnormal_scan_paths = [\n",
        "    os.path.join(os.getcwd(), \"hotspot/TES_1\", x)\n",
        "    for x in os.listdir(\"hotspot/TES_1\")\n",
        "]\n",
        "\n",
        "print(\"HS scans with normal lung tissue: \" + str(len(normal_scan_paths)))\n",
        "print(\"HS scans with abnormal lung tissue: \" + str(len(abnormal_scan_paths)))\n"
      ]
    },
    {
      "cell_type": "markdown",
      "metadata": {
        "id": "PJVH5yWuQyjF"
      },
      "source": [
        "## Build train and validation datasets\n",
        "Read the scans from the class directories and assign labels. Downsample the scans to have\n",
        "shape of 128x128x64. Rescale the raw HU values to the range 0 to 1.\n",
        "Lastly, split the dataset into train and validation subsets."
      ]
    },
    {
      "cell_type": "code",
      "execution_count": 16,
      "metadata": {
        "id": "28N4xYKAQyjG",
        "outputId": "6f65940b-dd02-429a-c131-1003828e0f30",
        "colab": {
          "base_uri": "https://localhost:8080/"
        }
      },
      "outputs": [
        {
          "output_type": "stream",
          "name": "stdout",
          "text": [
            "Number of samples in train and validation are 140 and 60.\n"
          ]
        }
      ],
      "source": [
        "# Read and process the scans.\n",
        "# Each scan is resized across height, width, and depth and rescaled.\n",
        "abnormal_scans = np.array([process_scan(path) for path in abnormal_scan_paths])\n",
        "normal_scans = np.array([process_scan(path) for path in normal_scan_paths])\n",
        "\n",
        "# For the CT scans having presence of viral pneumonia\n",
        "# assign 1, for the normal ones assign 0.\n",
        "abnormal_labels = np.array([1 for _ in range(len(abnormal_scans))])\n",
        "normal_labels = np.array([0 for _ in range(len(normal_scans))])\n",
        "\n",
        "# Split data in the ratio 70-30 for training and validation.\n",
        "x_train = np.concatenate((abnormal_scans[:70], normal_scans[:70]), axis=0)\n",
        "y_train = np.concatenate((abnormal_labels[:70], normal_labels[:70]), axis=0)\n",
        "x_val = np.concatenate((abnormal_scans[70:], normal_scans[70:]), axis=0)\n",
        "y_val = np.concatenate((abnormal_labels[70:], normal_labels[70:]), axis=0)\n",
        "print(\n",
        "    \"Number of samples in train and validation are %d and %d.\"\n",
        "    % (x_train.shape[0], x_val.shape[0])\n",
        ")"
      ]
    },
    {
      "cell_type": "code",
      "source": [
        "abnormal_scans.shape"
      ],
      "metadata": {
        "id": "1ndOX95Sc1kf",
        "outputId": "9d06e0cc-85a9-49f5-bf88-1f91329ca457",
        "colab": {
          "base_uri": "https://localhost:8080/"
        }
      },
      "execution_count": 17,
      "outputs": [
        {
          "output_type": "execute_result",
          "data": {
            "text/plain": [
              "(100, 11, 11, 11)"
            ]
          },
          "metadata": {},
          "execution_count": 17
        }
      ]
    },
    {
      "cell_type": "markdown",
      "metadata": {
        "id": "to4nkxgRQyjG"
      },
      "source": [
        "## Data augmentation\n",
        "\n",
        "The CT scans also augmented by rotating at random angles during training. Since\n",
        "the data is stored in rank-3 tensors of shape `(samples, height, width, depth)`,\n",
        "we add a dimension of size 1 at axis 4 to be able to perform 3D convolutions on\n",
        "the data. The new shape is thus `(samples, height, width, depth, 1)`. There are\n",
        "different kinds of preprocessing and augmentation techniques out there,\n",
        "this example shows a few simple ones to get started."
      ]
    },
    {
      "cell_type": "code",
      "execution_count": null,
      "metadata": {
        "id": "KKOd1OmMQyjH"
      },
      "outputs": [],
      "source": [
        "import random\n",
        "\n",
        "from scipy import ndimage\n",
        "\n",
        "\n",
        "@tf.function\n",
        "def rotate(volume):\n",
        "    \"\"\"Rotate the volume by a few degrees\"\"\"\n",
        "\n",
        "    def scipy_rotate(volume):\n",
        "        # define some rotation angles\n",
        "        angles = [-20, -10, -5, 5, 10, 20]\n",
        "        # pick angles at random\n",
        "        angle = random.choice(angles)\n",
        "        # rotate volume\n",
        "        volume = ndimage.rotate(volume, angle, reshape=False)\n",
        "        volume[volume < 0] = 0\n",
        "        volume[volume > 1] = 1\n",
        "        return volume\n",
        "\n",
        "    augmented_volume = tf.numpy_function(scipy_rotate, [volume], tf.float32)\n",
        "    return augmented_volume\n",
        "\n",
        "\n",
        "def train_preprocessing(volume, label):\n",
        "    \"\"\"Process training data by rotating and adding a channel.\"\"\"\n",
        "    # Rotate volume\n",
        "    volume = rotate(volume)\n",
        "    volume = tf.expand_dims(volume, axis=3)\n",
        "    return volume, label\n",
        "\n",
        "\n",
        "def validation_preprocessing(volume, label):\n",
        "    \"\"\"Process validation data by only adding a channel.\"\"\"\n",
        "    volume = tf.expand_dims(volume, axis=3)\n",
        "    return volume, label\n"
      ]
    },
    {
      "cell_type": "markdown",
      "metadata": {
        "id": "ELWvXerVQyjH"
      },
      "source": [
        "While defining the train and validation data loader, the training data is passed through\n",
        "and augmentation function which randomly rotates volume at different angles. Note that both\n",
        "training and validation data are already rescaled to have values between 0 and 1."
      ]
    },
    {
      "cell_type": "code",
      "execution_count": 19,
      "metadata": {
        "id": "dv-2SlaUQyjH",
        "colab": {
          "base_uri": "https://localhost:8080/"
        },
        "outputId": "66d1b46b-cfad-4f21-b15c-328eda827f1e"
      },
      "outputs": [
        {
          "output_type": "stream",
          "name": "stdout",
          "text": [
            "CPU times: user 9.67 ms, sys: 1.31 ms, total: 11 ms\n",
            "Wall time: 12.5 ms\n"
          ]
        }
      ],
      "source": [
        "%%time\n",
        "# Define data loaders.\n",
        "train_loader = tf.data.Dataset.from_tensor_slices((x_train, y_train))\n",
        "validation_loader = tf.data.Dataset.from_tensor_slices((x_val, y_val))\n",
        "\n",
        "batch_size = 2\n",
        "# Augment the on the fly during training.\n",
        "train_dataset = (\n",
        "    train_loader.shuffle(len(x_train))\n",
        "    #.map(train_preprocessing)\n",
        "    .batch(batch_size)\n",
        "    .prefetch(2)\n",
        ")\n",
        "# Only rescale.\n",
        "validation_dataset = (\n",
        "    validation_loader.shuffle(len(x_val))\n",
        "    #.map(validation_preprocessing)\n",
        "    .batch(batch_size)\n",
        "    .prefetch(2)\n",
        ")"
      ]
    },
    {
      "cell_type": "markdown",
      "metadata": {
        "id": "ScRppah2QyjI"
      },
      "source": [
        "Visualize an augmented CT scan."
      ]
    },
    {
      "cell_type": "code",
      "execution_count": 24,
      "metadata": {
        "id": "UilZYhATQyjI",
        "colab": {
          "base_uri": "https://localhost:8080/",
          "height": 301
        },
        "outputId": "21fcfacf-862e-44a0-e965-c2337d7d732d"
      },
      "outputs": [
        {
          "output_type": "stream",
          "name": "stdout",
          "text": [
            "Dimension of the CT scan is: (11, 11, 11)\n"
          ]
        },
        {
          "output_type": "execute_result",
          "data": {
            "text/plain": [
              "<matplotlib.image.AxesImage at 0x7f78a004d950>"
            ]
          },
          "metadata": {},
          "execution_count": 24
        },
        {
          "output_type": "display_data",
          "data": {
            "image/png": "[encoded data removed]",
            "text/plain": [
              "<Figure size 432x288 with 1 Axes>"
            ]
          },
          "metadata": {
            "needs_background": "light"
          }
        }
      ],
      "source": [
        "import matplotlib.pyplot as plt\n",
        "\n",
        "data = train_dataset.take(1)\n",
        "images, labels = list(data)[0]\n",
        "images = images.numpy()\n",
        "image = images[1]\n",
        "print(\"Dimension of the CT scan is:\", image.shape)\n",
        "plt.imshow(np.squeeze(image[:, :, 0]), cmap=\"gray\")\n"
      ]
    },
    {
      "cell_type": "markdown",
      "metadata": {
        "id": "Srtx9c-yQyjI"
      },
      "source": [
        "Since a CT scan has many slices, let's visualize a montage of the slices."
      ]
    },
    {
      "cell_type": "code",
      "execution_count": 26,
      "metadata": {
        "id": "dFLHS30OQyjI",
        "colab": {
          "base_uri": "https://localhost:8080/",
          "height": 376
        },
        "outputId": "4efd71a6-fa24-4821-ec58-b60573062c30"
      },
      "outputs": [
        {
          "output_type": "display_data",
          "data": {
            "image/png": "[encoded data removed]",
            "text/plain": [
              "<Figure size 864x345.6 with 10 Axes>"
            ]
          },
          "metadata": {
            "needs_background": "light"
          }
        }
      ],
      "source": [
        "\n",
        "def plot_slices(num_rows, num_columns, width, height, data):\n",
        "    \"\"\"Plot a montage of 20 CT slices\"\"\"\n",
        "    data = np.rot90(np.array(data))\n",
        "    data = np.transpose(data)\n",
        "    data = np.reshape(data, (num_rows, num_columns, width, height))\n",
        "    rows_data, columns_data = data.shape[0], data.shape[1]\n",
        "    heights = [slc[0].shape[0] for slc in data]\n",
        "    widths = [slc.shape[1] for slc in data[0]]\n",
        "    fig_width = 12.0\n",
        "    fig_height = fig_width * sum(heights) / sum(widths)\n",
        "    f, axarr = plt.subplots(\n",
        "        rows_data,\n",
        "        columns_data,\n",
        "        figsize=(fig_width, fig_height),\n",
        "        gridspec_kw={\"height_ratios\": heights},\n",
        "    )\n",
        "    for i in range(rows_data):\n",
        "        for j in range(columns_data):\n",
        "            axarr[i, j].imshow(data[i][j], cmap=\"gray\")\n",
        "            axarr[i, j].axis(\"off\")\n",
        "    plt.subplots_adjust(wspace=0, hspace=0, left=0, right=1, bottom=0, top=1)\n",
        "    plt.show()\n",
        "\n",
        "\n",
        "# Visualize montage of slices.\n",
        "# 4 rows and 10 columns for 100 slices of the CT scan.\n",
        "plot_slices(2, 5, 11, 11, image[:, :, 1:11])"
      ]
    },
    {
      "cell_type": "markdown",
      "metadata": {
        "id": "Iu6Dj6RgQyjJ"
      },
      "source": [
        "## Define a 3D convolutional neural network\n",
        "\n",
        "To make the model easier to understand, we structure it into blocks.\n",
        "The architecture of the 3D CNN used in this example\n",
        "is based on [this paper](https://arxiv.org/abs/2007.13224)."
      ]
    },
    {
      "cell_type": "code",
      "execution_count": 32,
      "metadata": {
        "id": "s434QEWlQyjJ",
        "colab": {
          "base_uri": "https://localhost:8080/",
          "height": 486
        },
        "outputId": "db16625b-34a8-4d12-87ea-9b5caa9f37ec"
      },
      "outputs": [
        {
          "output_type": "error",
          "ename": "ValueError",
          "evalue": "ignored",
          "traceback": [
            "\u001b[0;31m---------------------------------------------------------------------------\u001b[0m",
            "\u001b[0;31mValueError\u001b[0m                                Traceback (most recent call last)",
            "\u001b[0;32m<ipython-input-32-50a343789bb9>\u001b[0m in \u001b[0;36m<module>\u001b[0;34m()\u001b[0m\n\u001b[1;32m     33\u001b[0m \u001b[0;34m\u001b[0m\u001b[0m\n\u001b[1;32m     34\u001b[0m \u001b[0;31m# Build model.\u001b[0m\u001b[0;34m\u001b[0m\u001b[0;34m\u001b[0m\u001b[0;34m\u001b[0m\u001b[0m\n\u001b[0;32m---> 35\u001b[0;31m \u001b[0mmodel\u001b[0m \u001b[0;34m=\u001b[0m \u001b[0mget_model\u001b[0m\u001b[0;34m(\u001b[0m\u001b[0mwidth\u001b[0m\u001b[0;34m=\u001b[0m\u001b[0;36m11\u001b[0m\u001b[0;34m,\u001b[0m \u001b[0mheight\u001b[0m\u001b[0;34m=\u001b[0m\u001b[0;36m11\u001b[0m\u001b[0;34m,\u001b[0m \u001b[0mdepth\u001b[0m\u001b[0;34m=\u001b[0m\u001b[0;36m11\u001b[0m\u001b[0;34m)\u001b[0m\u001b[0;34m\u001b[0m\u001b[0;34m\u001b[0m\u001b[0m\n\u001b[0m\u001b[1;32m     36\u001b[0m \u001b[0mmodel\u001b[0m\u001b[0;34m.\u001b[0m\u001b[0msummary\u001b[0m\u001b[0;34m(\u001b[0m\u001b[0;34m)\u001b[0m\u001b[0;34m\u001b[0m\u001b[0;34m\u001b[0m\u001b[0m\n",
            "\u001b[0;32m<ipython-input-32-50a343789bb9>\u001b[0m in \u001b[0;36mget_model\u001b[0;34m(width, height, depth)\u001b[0m\n\u001b[1;32m     13\u001b[0m     \u001b[0mx\u001b[0m \u001b[0;34m=\u001b[0m \u001b[0mlayers\u001b[0m\u001b[0;34m.\u001b[0m\u001b[0mBatchNormalization\u001b[0m\u001b[0;34m(\u001b[0m\u001b[0;34m)\u001b[0m\u001b[0;34m(\u001b[0m\u001b[0mx\u001b[0m\u001b[0;34m)\u001b[0m\u001b[0;34m\u001b[0m\u001b[0;34m\u001b[0m\u001b[0m\n\u001b[1;32m     14\u001b[0m \u001b[0;34m\u001b[0m\u001b[0m\n\u001b[0;32m---> 15\u001b[0;31m     \u001b[0mx\u001b[0m \u001b[0;34m=\u001b[0m \u001b[0mlayers\u001b[0m\u001b[0;34m.\u001b[0m\u001b[0mConv3D\u001b[0m\u001b[0;34m(\u001b[0m\u001b[0mfilters\u001b[0m\u001b[0;34m=\u001b[0m\u001b[0;36m10\u001b[0m\u001b[0;34m,\u001b[0m \u001b[0mkernel_size\u001b[0m\u001b[0;34m=\u001b[0m\u001b[0;36m3\u001b[0m\u001b[0;34m,\u001b[0m \u001b[0mactivation\u001b[0m\u001b[0;34m=\u001b[0m\u001b[0;34m\"relu\"\u001b[0m\u001b[0;34m)\u001b[0m\u001b[0;34m(\u001b[0m\u001b[0mx\u001b[0m\u001b[0;34m)\u001b[0m\u001b[0;34m\u001b[0m\u001b[0;34m\u001b[0m\u001b[0m\n\u001b[0m\u001b[1;32m     16\u001b[0m     \u001b[0mx\u001b[0m \u001b[0;34m=\u001b[0m \u001b[0mlayers\u001b[0m\u001b[0;34m.\u001b[0m\u001b[0mMaxPool3D\u001b[0m\u001b[0;34m(\u001b[0m\u001b[0mpool_size\u001b[0m\u001b[0;34m=\u001b[0m\u001b[0;36m2\u001b[0m\u001b[0;34m,\u001b[0m \u001b[0mpadding\u001b[0m\u001b[0;34m=\u001b[0m\u001b[0;34m'same'\u001b[0m\u001b[0;34m)\u001b[0m\u001b[0;34m(\u001b[0m\u001b[0mx\u001b[0m\u001b[0;34m)\u001b[0m\u001b[0;34m\u001b[0m\u001b[0;34m\u001b[0m\u001b[0m\n\u001b[1;32m     17\u001b[0m     \u001b[0mx\u001b[0m \u001b[0;34m=\u001b[0m \u001b[0mlayers\u001b[0m\u001b[0;34m.\u001b[0m\u001b[0mBatchNormalization\u001b[0m\u001b[0;34m(\u001b[0m\u001b[0;34m)\u001b[0m\u001b[0;34m(\u001b[0m\u001b[0mx\u001b[0m\u001b[0;34m)\u001b[0m\u001b[0;34m\u001b[0m\u001b[0;34m\u001b[0m\u001b[0m\n",
            "\u001b[0;32m/usr/local/lib/python3.7/dist-packages/keras/utils/traceback_utils.py\u001b[0m in \u001b[0;36merror_handler\u001b[0;34m(*args, **kwargs)\u001b[0m\n\u001b[1;32m     65\u001b[0m     \u001b[0;32mexcept\u001b[0m \u001b[0mException\u001b[0m \u001b[0;32mas\u001b[0m \u001b[0me\u001b[0m\u001b[0;34m:\u001b[0m  \u001b[0;31m# pylint: disable=broad-except\u001b[0m\u001b[0;34m\u001b[0m\u001b[0;34m\u001b[0m\u001b[0m\n\u001b[1;32m     66\u001b[0m       \u001b[0mfiltered_tb\u001b[0m \u001b[0;34m=\u001b[0m \u001b[0m_process_traceback_frames\u001b[0m\u001b[0;34m(\u001b[0m\u001b[0me\u001b[0m\u001b[0;34m.\u001b[0m\u001b[0m__traceback__\u001b[0m\u001b[0;34m)\u001b[0m\u001b[0;34m\u001b[0m\u001b[0;34m\u001b[0m\u001b[0m\n\u001b[0;32m---> 67\u001b[0;31m       \u001b[0;32mraise\u001b[0m \u001b[0me\u001b[0m\u001b[0;34m.\u001b[0m\u001b[0mwith_traceback\u001b[0m\u001b[0;34m(\u001b[0m\u001b[0mfiltered_tb\u001b[0m\u001b[0;34m)\u001b[0m \u001b[0;32mfrom\u001b[0m \u001b[0;32mNone\u001b[0m\u001b[0;34m\u001b[0m\u001b[0;34m\u001b[0m\u001b[0m\n\u001b[0m\u001b[1;32m     68\u001b[0m     \u001b[0;32mfinally\u001b[0m\u001b[0;34m:\u001b[0m\u001b[0;34m\u001b[0m\u001b[0;34m\u001b[0m\u001b[0m\n\u001b[1;32m     69\u001b[0m       \u001b[0;32mdel\u001b[0m \u001b[0mfiltered_tb\u001b[0m\u001b[0;34m\u001b[0m\u001b[0;34m\u001b[0m\u001b[0m\n",
            "\u001b[0;32m/usr/local/lib/python3.7/dist-packages/tensorflow/python/framework/ops.py\u001b[0m in \u001b[0;36m_create_c_op\u001b[0;34m(graph, node_def, inputs, control_inputs, op_def)\u001b[0m\n\u001b[1;32m   1937\u001b[0m   \u001b[0;32mexcept\u001b[0m \u001b[0merrors\u001b[0m\u001b[0;34m.\u001b[0m\u001b[0mInvalidArgumentError\u001b[0m \u001b[0;32mas\u001b[0m \u001b[0me\u001b[0m\u001b[0;34m:\u001b[0m\u001b[0;34m\u001b[0m\u001b[0;34m\u001b[0m\u001b[0m\n\u001b[1;32m   1938\u001b[0m     \u001b[0;31m# Convert to ValueError for backwards compatibility.\u001b[0m\u001b[0;34m\u001b[0m\u001b[0;34m\u001b[0m\u001b[0;34m\u001b[0m\u001b[0m\n\u001b[0;32m-> 1939\u001b[0;31m     \u001b[0;32mraise\u001b[0m \u001b[0mValueError\u001b[0m\u001b[0;34m(\u001b[0m\u001b[0me\u001b[0m\u001b[0;34m.\u001b[0m\u001b[0mmessage\u001b[0m\u001b[0;34m)\u001b[0m\u001b[0;34m\u001b[0m\u001b[0;34m\u001b[0m\u001b[0m\n\u001b[0m\u001b[1;32m   1940\u001b[0m \u001b[0;34m\u001b[0m\u001b[0m\n\u001b[1;32m   1941\u001b[0m   \u001b[0;32mreturn\u001b[0m \u001b[0mc_op\u001b[0m\u001b[0;34m\u001b[0m\u001b[0;34m\u001b[0m\u001b[0m\n",
            "\u001b[0;31mValueError\u001b[0m: Exception encountered when calling layer \"conv3d_16\" (type Conv3D).\n\nNegative dimension size caused by subtracting 3 from 2 for '{{node conv3d_16/Conv3D}} = Conv3D[T=DT_FLOAT, data_format=\"NDHWC\", dilations=[1, 1, 1, 1, 1], padding=\"VALID\", strides=[1, 1, 1, 1, 1]](Placeholder, conv3d_16/Conv3D/ReadVariableOp)' with input shapes: [?,2,2,2,5], [3,3,3,5,10].\n\nCall arguments received:\n  • inputs=tf.Tensor(shape=(None, 2, 2, 2, 5), dtype=float32)"
          ]
        }
      ],
      "source": [
        "\n",
        "def get_model(width=11, height=11, depth=11):\n",
        "    \"\"\"Build a 3D convolutional neural network model.\"\"\"\n",
        "\n",
        "    inputs = keras.Input((width, height, depth, 1))\n",
        "\n",
        "    x = layers.Conv3D(filters=5, kernel_size=3, activation=\"relu\")(inputs)\n",
        "    x = layers.MaxPool3D(pool_size=2, padding='same')(x)\n",
        "    x = layers.BatchNormalization()(x)\n",
        "\n",
        "    x = layers.Conv3D(filters=5, kernel_size=3, activation=\"relu\")(x)\n",
        "    x = layers.MaxPool3D(pool_size=2, padding='same')(x)\n",
        "    x = layers.BatchNormalization()(x)\n",
        "\n",
        "    x = layers.Conv3D(filters=10, kernel_size=3, activation=\"relu\")(x)\n",
        "    x = layers.MaxPool3D(pool_size=2, padding='same')(x)\n",
        "    x = layers.BatchNormalization()(x)\n",
        "\n",
        "    x = layers.Conv3D(filters=20, kernel_size=3, activation=\"relu\")(x)\n",
        "    x = layers.MaxPool3D(pool_size=2, padding='same')(x)\n",
        "    x = layers.BatchNormalization()(x)\n",
        "\n",
        "    x = layers.GlobalAveragePooling3D()(x)\n",
        "    x = layers.Dense(units=40, activation=\"relu\")(x)\n",
        "    x = layers.Dropout(0.3)(x)\n",
        "\n",
        "    outputs = layers.Dense(units=1, activation=\"sigmoid\")(x)\n",
        "\n",
        "    # Define the model.\n",
        "    model = keras.Model(inputs, outputs, name=\"3dcnn\")\n",
        "    return model\n",
        "\n",
        "\n",
        "# Build model.\n",
        "model = get_model(width=11, height=11, depth=11)\n",
        "model.summary()"
      ]
    },
    {
      "cell_type": "markdown",
      "metadata": {
        "id": "AOAgUD_xQyjK"
      },
      "source": [
        "## Train model"
      ]
    },
    {
      "cell_type": "code",
      "execution_count": null,
      "metadata": {
        "id": "mjgY8s5ZQyjK",
        "colab": {
          "base_uri": "https://localhost:8080/"
        },
        "outputId": "8e5b6d89-702b-4ac5-c12b-c334261a942b"
      },
      "outputs": [
        {
          "output_type": "stream",
          "name": "stdout",
          "text": [
            "Epoch 1/50\n",
            "70/70 - 50s - loss: 0.7168 - acc: 0.5143 - val_loss: 0.7208 - val_acc: 0.5000 - 50s/epoch - 710ms/step\n",
            "Epoch 2/50\n",
            "70/70 - 38s - loss: 0.6774 - acc: 0.5643 - val_loss: 1.2843 - val_acc: 0.5000 - 38s/epoch - 541ms/step\n",
            "Epoch 3/50\n",
            "70/70 - 38s - loss: 0.6649 - acc: 0.6143 - val_loss: 2.1314 - val_acc: 0.5000 - 38s/epoch - 539ms/step\n",
            "Epoch 4/50\n",
            "70/70 - 37s - loss: 0.6503 - acc: 0.6357 - val_loss: 1.6555 - val_acc: 0.5000 - 37s/epoch - 534ms/step\n",
            "Epoch 5/50\n",
            "70/70 - 37s - loss: 0.6428 - acc: 0.6429 - val_loss: 1.3156 - val_acc: 0.5000 - 37s/epoch - 534ms/step\n",
            "Epoch 6/50\n",
            "70/70 - 38s - loss: 0.6276 - acc: 0.6643 - val_loss: 2.0319 - val_acc: 0.5000 - 38s/epoch - 547ms/step\n",
            "Epoch 7/50\n",
            "70/70 - 39s - loss: 0.6299 - acc: 0.6286 - val_loss: 2.7130 - val_acc: 0.5000 - 39s/epoch - 551ms/step\n",
            "Epoch 8/50\n",
            "70/70 - 38s - loss: 0.6574 - acc: 0.6357 - val_loss: 1.4546 - val_acc: 0.5000 - 38s/epoch - 546ms/step\n",
            "Epoch 9/50\n",
            "70/70 - 39s - loss: 0.6443 - acc: 0.6214 - val_loss: 0.5111 - val_acc: 0.7000 - 39s/epoch - 554ms/step\n",
            "Epoch 10/50\n",
            "70/70 - 38s - loss: 0.6299 - acc: 0.6357 - val_loss: 0.6259 - val_acc: 0.6667 - 38s/epoch - 547ms/step\n",
            "Epoch 11/50\n",
            "70/70 - 38s - loss: 0.5870 - acc: 0.7143 - val_loss: 0.7469 - val_acc: 0.5833 - 38s/epoch - 548ms/step\n",
            "Epoch 12/50\n",
            "70/70 - 38s - loss: 0.5893 - acc: 0.6786 - val_loss: 0.5775 - val_acc: 0.7167 - 38s/epoch - 546ms/step\n",
            "Epoch 13/50\n",
            "70/70 - 38s - loss: 0.6109 - acc: 0.6929 - val_loss: 0.5294 - val_acc: 0.7833 - 38s/epoch - 542ms/step\n",
            "Epoch 14/50\n",
            "70/70 - 38s - loss: 0.5876 - acc: 0.6857 - val_loss: 0.4736 - val_acc: 0.7667 - 38s/epoch - 543ms/step\n",
            "Epoch 15/50\n",
            "70/70 - 38s - loss: 0.5531 - acc: 0.7214 - val_loss: 0.5301 - val_acc: 0.7333 - 38s/epoch - 541ms/step\n",
            "Epoch 16/50\n",
            "70/70 - 38s - loss: 0.6010 - acc: 0.6429 - val_loss: 0.5049 - val_acc: 0.7000 - 38s/epoch - 544ms/step\n",
            "Epoch 17/50\n",
            "70/70 - 38s - loss: 0.6008 - acc: 0.6714 - val_loss: 0.5293 - val_acc: 0.7167 - 38s/epoch - 539ms/step\n",
            "Epoch 18/50\n",
            "70/70 - 38s - loss: 0.6207 - acc: 0.6500 - val_loss: 0.5375 - val_acc: 0.7833 - 38s/epoch - 541ms/step\n",
            "Epoch 19/50\n",
            "70/70 - 39s - loss: 0.6007 - acc: 0.6286 - val_loss: 0.5181 - val_acc: 0.7833 - 39s/epoch - 559ms/step\n",
            "Epoch 20/50\n",
            "70/70 - 39s - loss: 0.5669 - acc: 0.7429 - val_loss: 0.4334 - val_acc: 0.7833 - 39s/epoch - 555ms/step\n",
            "Epoch 21/50\n",
            "70/70 - 38s - loss: 0.5665 - acc: 0.7357 - val_loss: 0.6551 - val_acc: 0.6500 - 38s/epoch - 542ms/step\n",
            "Epoch 22/50\n",
            "70/70 - 38s - loss: 0.5265 - acc: 0.7714 - val_loss: 0.4898 - val_acc: 0.6667 - 38s/epoch - 546ms/step\n",
            "Epoch 23/50\n",
            "70/70 - 38s - loss: 0.5590 - acc: 0.7071 - val_loss: 0.6286 - val_acc: 0.6500 - 38s/epoch - 548ms/step\n",
            "Epoch 24/50\n",
            "70/70 - 38s - loss: 0.5433 - acc: 0.7643 - val_loss: 0.4350 - val_acc: 0.8000 - 38s/epoch - 543ms/step\n",
            "Epoch 25/50\n",
            "70/70 - 38s - loss: 0.5330 - acc: 0.7643 - val_loss: 2.6934 - val_acc: 0.5000 - 38s/epoch - 540ms/step\n",
            "Epoch 26/50\n",
            "70/70 - 38s - loss: 0.5367 - acc: 0.7143 - val_loss: 0.7261 - val_acc: 0.6833 - 38s/epoch - 540ms/step\n",
            "Epoch 27/50\n",
            "70/70 - 39s - loss: 0.5433 - acc: 0.6929 - val_loss: 0.8184 - val_acc: 0.5667 - 39s/epoch - 552ms/step\n",
            "Epoch 28/50\n",
            "70/70 - 39s - loss: 0.5211 - acc: 0.6857 - val_loss: 0.4334 - val_acc: 0.7667 - 39s/epoch - 560ms/step\n",
            "Epoch 29/50\n",
            "70/70 - 40s - loss: 0.4952 - acc: 0.7357 - val_loss: 0.4593 - val_acc: 0.7500 - 40s/epoch - 566ms/step\n",
            "Epoch 30/50\n",
            "70/70 - 40s - loss: 0.5018 - acc: 0.7357 - val_loss: 1.9058 - val_acc: 0.5167 - 40s/epoch - 567ms/step\n",
            "Epoch 31/50\n",
            "70/70 - 40s - loss: 0.4968 - acc: 0.7500 - val_loss: 0.4948 - val_acc: 0.7667 - 40s/epoch - 565ms/step\n",
            "Epoch 32/50\n",
            "70/70 - 39s - loss: 0.4938 - acc: 0.7643 - val_loss: 0.5192 - val_acc: 0.7000 - 39s/epoch - 561ms/step\n",
            "Epoch 33/50\n",
            "70/70 - 40s - loss: 0.4347 - acc: 0.7786 - val_loss: 0.6410 - val_acc: 0.6833 - 40s/epoch - 567ms/step\n",
            "Epoch 34/50\n",
            "70/70 - 39s - loss: 0.4876 - acc: 0.7643 - val_loss: 0.5411 - val_acc: 0.7333 - 39s/epoch - 564ms/step\n",
            "Epoch 35/50\n",
            "70/70 - 40s - loss: 0.4369 - acc: 0.7857 - val_loss: 0.5189 - val_acc: 0.7333 - 40s/epoch - 566ms/step\n",
            "Epoch 36/50\n",
            "70/70 - 40s - loss: 0.4294 - acc: 0.8286 - val_loss: 0.3928 - val_acc: 0.8333 - 40s/epoch - 573ms/step\n",
            "Epoch 37/50\n",
            "70/70 - 41s - loss: 0.4654 - acc: 0.7643 - val_loss: 0.4266 - val_acc: 0.8000 - 41s/epoch - 579ms/step\n",
            "Epoch 38/50\n",
            "70/70 - 39s - loss: 0.4606 - acc: 0.7500 - val_loss: 0.3744 - val_acc: 0.8500 - 39s/epoch - 562ms/step\n",
            "Epoch 39/50\n",
            "70/70 - 38s - loss: 0.4063 - acc: 0.8357 - val_loss: 0.4220 - val_acc: 0.8000 - 38s/epoch - 541ms/step\n",
            "Epoch 40/50\n",
            "70/70 - 38s - loss: 0.3511 - acc: 0.8429 - val_loss: 0.4371 - val_acc: 0.8000 - 38s/epoch - 541ms/step\n",
            "Epoch 41/50\n",
            "70/70 - 38s - loss: 0.3989 - acc: 0.8357 - val_loss: 0.8576 - val_acc: 0.7000 - 38s/epoch - 542ms/step\n",
            "Epoch 42/50\n",
            "70/70 - 38s - loss: 0.4505 - acc: 0.7929 - val_loss: 0.4523 - val_acc: 0.8333 - 38s/epoch - 537ms/step\n",
            "Epoch 43/50\n",
            "70/70 - 38s - loss: 0.3644 - acc: 0.8500 - val_loss: 0.4795 - val_acc: 0.7333 - 38s/epoch - 540ms/step\n",
            "Epoch 44/50\n",
            "70/70 - 38s - loss: 0.3742 - acc: 0.8500 - val_loss: 0.3905 - val_acc: 0.8167 - 38s/epoch - 543ms/step\n",
            "Epoch 45/50\n",
            "70/70 - 38s - loss: 0.4020 - acc: 0.7786 - val_loss: 0.4760 - val_acc: 0.7667 - 38s/epoch - 546ms/step\n",
            "Epoch 46/50\n",
            "70/70 - 38s - loss: 0.4149 - acc: 0.8000 - val_loss: 0.5429 - val_acc: 0.7167 - 38s/epoch - 542ms/step\n",
            "Epoch 47/50\n",
            "70/70 - 39s - loss: 0.3637 - acc: 0.8286 - val_loss: 1.0020 - val_acc: 0.6000 - 39s/epoch - 555ms/step\n",
            "Epoch 48/50\n",
            "70/70 - 39s - loss: 0.3062 - acc: 0.8929 - val_loss: 0.4076 - val_acc: 0.8333 - 39s/epoch - 551ms/step\n",
            "Epoch 49/50\n",
            "70/70 - 38s - loss: 0.3534 - acc: 0.8357 - val_loss: 2.3025 - val_acc: 0.5500 - 38s/epoch - 549ms/step\n",
            "Epoch 50/50\n",
            "70/70 - 38s - loss: 0.3914 - acc: 0.8214 - val_loss: 0.8871 - val_acc: 0.6000 - 38s/epoch - 550ms/step\n",
            "CPU times: user 43min 7s, sys: 1min, total: 44min 8s\n",
            "Wall time: 34min 5s\n"
          ]
        }
      ],
      "source": [
        "%%time\n",
        "# Compile model.\n",
        "initial_learning_rate = 0.0001\n",
        "lr_schedule = keras.optimizers.schedules.ExponentialDecay(\n",
        "    initial_learning_rate, decay_steps=100000, decay_rate=0.96, staircase=True\n",
        ")\n",
        "model.compile(\n",
        "    loss=\"binary_crossentropy\",\n",
        "    optimizer=keras.optimizers.Adam(learning_rate=lr_schedule),\n",
        "    metrics=[\"acc\"],\n",
        ")\n",
        "\n",
        "# Define callbacks.\n",
        "checkpoint_cb = keras.callbacks.ModelCheckpoint(\n",
        "    \"3d_image_classification.h5\", save_best_only=True\n",
        ")\n",
        "early_stopping_cb = keras.callbacks.EarlyStopping(monitor=\"val_acc\", patience=15)\n",
        "\n",
        "# Train the model, doing validation at the end of each epoch\n",
        "epochs = 50\n",
        "model.fit(\n",
        "    train_dataset,\n",
        "    validation_data=validation_dataset,\n",
        "    epochs=epochs,\n",
        "    shuffle=True,\n",
        "    verbose=2,\n",
        "    callbacks=[checkpoint_cb, early_stopping_cb],\n",
        ")"
      ]
    },
    {
      "cell_type": "markdown",
      "metadata": {
        "id": "9TszCaQNQyjK"
      },
      "source": [
        "It is important to note that the number of samples is very small (only 200) and we don't\n",
        "specify a random seed. As such, you can expect significant variance in the results. The full dataset\n",
        "which consists of over 1000 CT scans can be found [here](https://www.medrxiv.org/content/10.1101/2020.05.20.20100362v1). Using the full\n",
        "dataset, an accuracy of 83% was achieved. A variability of 6-7% in the classification\n",
        "performance is observed in both cases."
      ]
    },
    {
      "cell_type": "markdown",
      "metadata": {
        "id": "zArx5OyIQyjK"
      },
      "source": [
        "## Visualizing model performance\n",
        "\n",
        "Here the model accuracy and loss for the training and the validation sets are plotted.\n",
        "Since the validation set is class-balanced, accuracy provides an unbiased representation\n",
        "of the model's performance."
      ]
    },
    {
      "cell_type": "code",
      "execution_count": null,
      "metadata": {
        "id": "o6T1E-RUQyjK",
        "colab": {
          "base_uri": "https://localhost:8080/",
          "height": 146
        },
        "outputId": "302544be-0dde-4f13-b138-e3c5ad07bba4"
      },
      "outputs": [
        {
          "output_type": "display_data",
          "data": {
            "image/png": "[encoded data removed]",
            "text/plain": [
              "<Figure size 1440x216 with 2 Axes>"
            ]
          },
          "metadata": {
            "needs_background": "light"
          }
        }
      ],
      "source": [
        "fig, ax = plt.subplots(1, 2, figsize=(20, 3))\n",
        "ax = ax.ravel()\n",
        "\n",
        "for i, metric in enumerate([\"acc\", \"loss\"]):\n",
        "    ax[i].plot(model.history.history[metric])\n",
        "    ax[i].plot(model.history.history[\"val_\" + metric])\n",
        "    ax[i].set_title(\"Model {}\".format(metric))\n",
        "    ax[i].set_xlabel(\"epochs\")\n",
        "    ax[i].set_ylabel(metric)\n",
        "    ax[i].legend([\"train\", \"val\"])"
      ]
    },
    {
      "cell_type": "markdown",
      "metadata": {
        "id": "HL5RDR1DQyjL"
      },
      "source": [
        "## Make predictions on a single CT scan"
      ]
    },
    {
      "cell_type": "code",
      "execution_count": null,
      "metadata": {
        "id": "Ql5RoSOAQyjL",
        "colab": {
          "base_uri": "https://localhost:8080/"
        },
        "outputId": "c769809b-a88d-4982-d5de-810ccf9a50c9"
      },
      "outputs": [
        {
          "output_type": "stream",
          "name": "stdout",
          "text": [
            "This model is 20.79 percent confident that CT scan is normal\n",
            "This model is 79.21 percent confident that CT scan is abnormal\n"
          ]
        }
      ],
      "source": [
        "# Load best weights.\n",
        "model.load_weights(\"3d_image_classification.h5\")\n",
        "prediction = model.predict(np.expand_dims(x_val[0], axis=0))[0]\n",
        "scores = [1 - prediction[0], prediction[0]]\n",
        "\n",
        "class_names = [\"normal\", \"abnormal\"]\n",
        "for score, name in zip(scores, class_names):\n",
        "    print(\n",
        "        \"This model is %.2f percent confident that CT scan is %s\"\n",
        "        % ((100 * score), name)\n",
        "    )"
      ]
    }
  ],
  "metadata": {
    "colab": {
      "collapsed_sections": [],
      "name": "3D_image_classification",
      "provenance": [],
      "toc_visible": true,
      "include_colab_link": true
    },
    "kernelspec": {
      "display_name": "Python 3",
      "language": "python",
      "name": "python3"
    },
    "language_info": {
      "codemirror_mode": {
        "name": "ipython",
        "version": 3
      },
      "file_extension": ".py",
      "mimetype": "text/x-python",
      "name": "python",
      "nbconvert_exporter": "python",
      "pygments_lexer": "ipython3",
      "version": "3.7.0"
    },
    "accelerator": "GPU"
  },
  "nbformat": 4,
  "nbformat_minor": 0
}